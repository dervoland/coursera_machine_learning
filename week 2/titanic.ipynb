{
 "cells": [
  {
   "cell_type": "code",
   "execution_count": 1,
   "metadata": {
    "collapsed": false
   },
   "outputs": [],
   "source": [
    "import pandas as pd"
   ]
  },
  {
   "cell_type": "code",
   "execution_count": 2,
   "metadata": {
    "collapsed": false
   },
   "outputs": [],
   "source": [
    "data = pd.read_csv('titanic.csv', index_col='PassengerId')"
   ]
  },
  {
   "cell_type": "code",
   "execution_count": 3,
   "metadata": {
    "collapsed": false
   },
   "outputs": [
    {
     "data": {
      "text/html": [
       "<div>\n",
       "<table border=\"1\" class=\"dataframe\">\n",
       "  <thead>\n",
       "    <tr style=\"text-align: right;\">\n",
       "      <th></th>\n",
       "      <th>Survived</th>\n",
       "      <th>Pclass</th>\n",
       "      <th>Name</th>\n",
       "      <th>Sex</th>\n",
       "      <th>Age</th>\n",
       "      <th>SibSp</th>\n",
       "      <th>Parch</th>\n",
       "      <th>Ticket</th>\n",
       "      <th>Fare</th>\n",
       "      <th>Cabin</th>\n",
       "      <th>Embarked</th>\n",
       "    </tr>\n",
       "    <tr>\n",
       "      <th>PassengerId</th>\n",
       "      <th></th>\n",
       "      <th></th>\n",
       "      <th></th>\n",
       "      <th></th>\n",
       "      <th></th>\n",
       "      <th></th>\n",
       "      <th></th>\n",
       "      <th></th>\n",
       "      <th></th>\n",
       "      <th></th>\n",
       "      <th></th>\n",
       "    </tr>\n",
       "  </thead>\n",
       "  <tbody>\n",
       "    <tr>\n",
       "      <th>1</th>\n",
       "      <td>0</td>\n",
       "      <td>3</td>\n",
       "      <td>Braund, Mr. Owen Harris</td>\n",
       "      <td>male</td>\n",
       "      <td>22.0</td>\n",
       "      <td>1</td>\n",
       "      <td>0</td>\n",
       "      <td>A/5 21171</td>\n",
       "      <td>7.2500</td>\n",
       "      <td>NaN</td>\n",
       "      <td>S</td>\n",
       "    </tr>\n",
       "    <tr>\n",
       "      <th>2</th>\n",
       "      <td>1</td>\n",
       "      <td>1</td>\n",
       "      <td>Cumings, Mrs. John Bradley (Florence Briggs Th...</td>\n",
       "      <td>female</td>\n",
       "      <td>38.0</td>\n",
       "      <td>1</td>\n",
       "      <td>0</td>\n",
       "      <td>PC 17599</td>\n",
       "      <td>71.2833</td>\n",
       "      <td>C85</td>\n",
       "      <td>C</td>\n",
       "    </tr>\n",
       "    <tr>\n",
       "      <th>3</th>\n",
       "      <td>1</td>\n",
       "      <td>3</td>\n",
       "      <td>Heikkinen, Miss. Laina</td>\n",
       "      <td>female</td>\n",
       "      <td>26.0</td>\n",
       "      <td>0</td>\n",
       "      <td>0</td>\n",
       "      <td>STON/O2. 3101282</td>\n",
       "      <td>7.9250</td>\n",
       "      <td>NaN</td>\n",
       "      <td>S</td>\n",
       "    </tr>\n",
       "    <tr>\n",
       "      <th>4</th>\n",
       "      <td>1</td>\n",
       "      <td>1</td>\n",
       "      <td>Futrelle, Mrs. Jacques Heath (Lily May Peel)</td>\n",
       "      <td>female</td>\n",
       "      <td>35.0</td>\n",
       "      <td>1</td>\n",
       "      <td>0</td>\n",
       "      <td>113803</td>\n",
       "      <td>53.1000</td>\n",
       "      <td>C123</td>\n",
       "      <td>S</td>\n",
       "    </tr>\n",
       "    <tr>\n",
       "      <th>5</th>\n",
       "      <td>0</td>\n",
       "      <td>3</td>\n",
       "      <td>Allen, Mr. William Henry</td>\n",
       "      <td>male</td>\n",
       "      <td>35.0</td>\n",
       "      <td>0</td>\n",
       "      <td>0</td>\n",
       "      <td>373450</td>\n",
       "      <td>8.0500</td>\n",
       "      <td>NaN</td>\n",
       "      <td>S</td>\n",
       "    </tr>\n",
       "  </tbody>\n",
       "</table>\n",
       "</div>"
      ],
      "text/plain": [
       "             Survived  Pclass  \\\n",
       "PassengerId                     \n",
       "1                   0       3   \n",
       "2                   1       1   \n",
       "3                   1       3   \n",
       "4                   1       1   \n",
       "5                   0       3   \n",
       "\n",
       "                                                          Name     Sex   Age  \\\n",
       "PassengerId                                                                    \n",
       "1                                      Braund, Mr. Owen Harris    male  22.0   \n",
       "2            Cumings, Mrs. John Bradley (Florence Briggs Th...  female  38.0   \n",
       "3                                       Heikkinen, Miss. Laina  female  26.0   \n",
       "4                 Futrelle, Mrs. Jacques Heath (Lily May Peel)  female  35.0   \n",
       "5                                     Allen, Mr. William Henry    male  35.0   \n",
       "\n",
       "             SibSp  Parch            Ticket     Fare Cabin Embarked  \n",
       "PassengerId                                                          \n",
       "1                1      0         A/5 21171   7.2500   NaN        S  \n",
       "2                1      0          PC 17599  71.2833   C85        C  \n",
       "3                0      0  STON/O2. 3101282   7.9250   NaN        S  \n",
       "4                1      0            113803  53.1000  C123        S  \n",
       "5                0      0            373450   8.0500   NaN        S  "
      ]
     },
     "execution_count": 3,
     "metadata": {},
     "output_type": "execute_result"
    }
   ],
   "source": [
    "data.head()"
   ]
  },
  {
   "cell_type": "markdown",
   "metadata": {},
   "source": [
    "## How many male and female were at ship?"
   ]
  },
  {
   "cell_type": "code",
   "execution_count": 4,
   "metadata": {
    "collapsed": false
   },
   "outputs": [
    {
     "data": {
      "text/plain": [
       "male      577\n",
       "female    314\n",
       "Name: Sex, dtype: int64"
      ]
     },
     "execution_count": 4,
     "metadata": {},
     "output_type": "execute_result"
    }
   ],
   "source": [
    "male_female_counts = data['Sex'].value_counts()\n",
    "male_female_counts"
   ]
  },
  {
   "cell_type": "code",
   "execution_count": 5,
   "metadata": {
    "collapsed": false
   },
   "outputs": [],
   "source": [
    "how_many_male_female_file = open('./res/how_many_male_female.txt', 'w')\n",
    "answer = str(male_female_counts['male']) + ' ' + str(male_female_counts['female'])\n",
    "how_many_male_female_file.write(answer)\n",
    "how_many_male_female_file.close()"
   ]
  },
  {
   "cell_type": "markdown",
   "metadata": {},
   "source": [
    "# How many passengers survived?"
   ]
  },
  {
   "cell_type": "code",
   "execution_count": 13,
   "metadata": {
    "collapsed": false
   },
   "outputs": [
    {
     "name": "stdout",
     "output_type": "stream",
     "text": [
      "How many passengers survived? 38.38\n"
     ]
    }
   ],
   "source": [
    "how_many_passengers_survived_pr = \"%.2f\" % (data['Survived'].sum() / data['Survived'].size * 100)\n",
    "print('How many passengers survived?', how_many_passengers_survived_pr)\n",
    "how_many_passengers_survived = open('./res/how_many_passengers_survived.txt', 'w')\n",
    "how_many_passengers_survived.write( str(how_many_passengers_survived_pr) )\n",
    "how_many_passengers_survived.close()"
   ]
  },
  {
   "cell_type": "markdown",
   "metadata": {},
   "source": [
    "# What portion of all has 1st class passengers?"
   ]
  },
  {
   "cell_type": "code",
   "execution_count": 14,
   "metadata": {
    "collapsed": false
   },
   "outputs": [
    {
     "name": "stdout",
     "output_type": "stream",
     "text": [
      "What portion of all has 1st class passengers? 24.24\n"
     ]
    }
   ],
   "source": [
    "pr = (data[data.Pclass == 1].index.size) / (data.index.size) * 100\n",
    "first_class_passenger_count = round(pr, 2)\n",
    "print('What portion of all has 1st class passengers?', first_class_passenger_count)\n",
    "first_class_passenger = open('./res/first_class_passenger.txt', 'w')\n",
    "first_class_passenger.write( str(first_class_passenger_count) )\n",
    "first_class_passenger.close()"
   ]
  },
  {
   "cell_type": "markdown",
   "metadata": {},
   "source": [
    "# What age was a passengers?"
   ]
  },
  {
   "cell_type": "code",
   "execution_count": 8,
   "metadata": {
    "collapsed": false
   },
   "outputs": [
    {
     "name": "stdout",
     "output_type": "stream",
     "text": [
      "What age was a passengers? Mean =  29.7 Median =  28.0\n"
     ]
    }
   ],
   "source": [
    "age_mean = round(data['Age'].mean(), 2)\n",
    "age_dedian = round(data['Age'].median(), 2)\n",
    "print ('What age was a passengers? Mean = ', age_mean, 'Median = ', age_dedian)\n",
    "what_age_was_a_passengers = open('./res/what_age_was_a_passengers.txt', 'w')\n",
    "what_age_was_a_passengers.write( str(age_mean) + ' ' + str(age_dedian) )\n",
    "what_age_was_a_passengers.close()"
   ]
  },
  {
   "cell_type": "markdown",
   "metadata": {},
   "source": [
    "# What is the SibSp/Parch correlation?"
   ]
  },
  {
   "cell_type": "code",
   "execution_count": 9,
   "metadata": {
    "collapsed": false
   },
   "outputs": [
    {
     "name": "stdout",
     "output_type": "stream",
     "text": [
      "What is the SibSp/Parch correlation? 0.41\n"
     ]
    }
   ],
   "source": [
    "corr = str( round( data['SibSp'].corr(data['Parch']), 2 ) )\n",
    "print ('What is the SibSp/Parch correlation?', corr)\n",
    "what_is_the_SibSp_and_Parch_correlation = open('./res/what_is_the_SibSp_and_Parch_correlation.txt', 'w')\n",
    "what_is_the_SibSp_and_Parch_correlation.write(corr)\n",
    "what_is_the_SibSp_and_Parch_correlation.close()"
   ]
  },
  {
   "cell_type": "markdown",
   "metadata": {},
   "source": [
    "# What is a most popular female name?"
   ]
  },
  {
   "cell_type": "code",
   "execution_count": 10,
   "metadata": {
    "collapsed": true
   },
   "outputs": [],
   "source": [
    "# U should load 'nameparser'\n",
    "# https://pypi.python.org/pypi/nameparser\n",
    "from nameparser import HumanName\n",
    "from collections import Counter"
   ]
  },
  {
   "cell_type": "code",
   "execution_count": 11,
   "metadata": {
    "collapsed": false
   },
   "outputs": [],
   "source": [
    "def getName(human_name):\n",
    "    if (human_name.first != ''):\n",
    "        # Thorne, Mrs. Gertrude Maybelle\n",
    "        return human_name.first\n",
    "    elif (human_name.last != ''):\n",
    "        # Osman, Mrs. Mara\n",
    "        return human_name.last\n",
    "    else:\n",
    "        # Sultana\n",
    "        #print ('Oops! Cant pasrse this name:')\n",
    "        return str(human_name)\n",
    "\n",
    "def getFemaleName(full_name):\n",
    "    if (full_name == ''):\n",
    "        print ('Oops, empty name!')\n",
    "    name = HumanName(full_name)\n",
    "    # Reynaldo, Ms. Encarnacion\n",
    "    # Keane, Miss. Nora A\n",
    "    # Osman, Mrs. Mara\n",
    "    # Boulos, Mrs. Joseph (Sultana)\n",
    "    # Bishop, Mrs. Dickinson H (Helen Walton)\n",
    "    # Thorne, Mrs. Gertrude Maybelle\n",
    "    if (name.title == 'Mrs.'): # married?\n",
    "        if (name.nickname != ''): # has own and hasband names? \"Bishop, Mrs. Dickinson H (Helen Walton)\"\n",
    "            own_name = HumanName(name.nickname)\n",
    "            return getName(own_name)\n",
    "    return getName(name)"
   ]
  },
  {
   "cell_type": "code",
   "execution_count": 12,
   "metadata": {
    "collapsed": false
   },
   "outputs": [
    {
     "name": "stdout",
     "output_type": "stream",
     "text": [
      "Most popular female name is \n",
      "[('Anna', 15), ('Mary', 14), ('Elizabeth', 11)]\n"
     ]
    }
   ],
   "source": [
    "female_passengers = data[data.Sex == 'female']\n",
    "names = [getFemaleName(name) for name in female_passengers['Name'] if getFemaleName(name)]\n",
    "print ('Most popular female name is ')\n",
    "print (Counter(names).most_common(3))\n",
    "most_popular_female_name = open('./res/most_popular_female_name.txt', 'w')\n",
    "#most_popular_female_name.write( Counter(names).most_common(1)[0][0] )\n",
    "most_popular_female_name.close()"
   ]
  }
 ],
 "metadata": {
  "kernelspec": {
   "display_name": "Python 3",
   "language": "python",
   "name": "python3"
  },
  "language_info": {
   "codemirror_mode": {
    "name": "ipython",
    "version": 3
   },
   "file_extension": ".py",
   "mimetype": "text/x-python",
   "name": "python",
   "nbconvert_exporter": "python",
   "pygments_lexer": "ipython3",
   "version": "3.5.1"
  }
 },
 "nbformat": 4,
 "nbformat_minor": 0
}
